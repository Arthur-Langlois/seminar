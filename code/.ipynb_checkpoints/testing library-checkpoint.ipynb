{
 "cells": [
  {
   "cell_type": "code",
   "execution_count": 1,
   "id": "afe0044b",
   "metadata": {
    "ExecuteTime": {
     "end_time": "2022-02-04T18:49:10.785662Z",
     "start_time": "2022-02-04T18:49:10.058816Z"
    }
   },
   "outputs": [],
   "source": [
    "import pandas as pd\n",
    "import numpy as np\n",
    "import matplotlib.pyplot as plt\n",
    "import SyntheticControlMethods"
   ]
  },
  {
   "cell_type": "code",
   "execution_count": 2,
   "id": "68b284fb",
   "metadata": {
    "ExecuteTime": {
     "end_time": "2022-02-04T18:49:23.687319Z",
     "start_time": "2022-02-04T18:49:23.661087Z"
    }
   },
   "outputs": [],
   "source": [
    "df = pd.read_csv('../Data/US-Gun-Violence.csv')"
   ]
  },
  {
   "cell_type": "code",
   "execution_count": 4,
   "id": "b2e8323c",
   "metadata": {
    "ExecuteTime": {
     "end_time": "2022-02-04T18:49:29.515409Z",
     "start_time": "2022-02-04T18:49:29.495082Z"
    }
   },
   "outputs": [
    {
     "data": {
      "text/html": [
       "<div>\n",
       "<style scoped>\n",
       "    .dataframe tbody tr th:only-of-type {\n",
       "        vertical-align: middle;\n",
       "    }\n",
       "\n",
       "    .dataframe tbody tr th {\n",
       "        vertical-align: top;\n",
       "    }\n",
       "\n",
       "    .dataframe thead th {\n",
       "        text-align: right;\n",
       "    }\n",
       "</style>\n",
       "<table border=\"1\" class=\"dataframe\">\n",
       "  <thead>\n",
       "    <tr style=\"text-align: right;\">\n",
       "      <th></th>\n",
       "      <th>incident_id</th>\n",
       "      <th>incident_date</th>\n",
       "      <th>state</th>\n",
       "      <th>city_or_county</th>\n",
       "      <th>address</th>\n",
       "      <th>killed</th>\n",
       "      <th>injured</th>\n",
       "    </tr>\n",
       "  </thead>\n",
       "  <tbody>\n",
       "    <tr>\n",
       "      <th>0</th>\n",
       "      <td>2201535</td>\n",
       "      <td>December 31 2021</td>\n",
       "      <td>Maryland</td>\n",
       "      <td>Capitol Heights</td>\n",
       "      <td>Cindy Ln</td>\n",
       "      <td>0</td>\n",
       "      <td>4.0</td>\n",
       "    </tr>\n",
       "    <tr>\n",
       "      <th>1</th>\n",
       "      <td>2201716</td>\n",
       "      <td>December 31 2021</td>\n",
       "      <td>Mississippi</td>\n",
       "      <td>Gulfport</td>\n",
       "      <td>1200 block of Lewis Ave</td>\n",
       "      <td>3</td>\n",
       "      <td>4.0</td>\n",
       "    </tr>\n",
       "    <tr>\n",
       "      <th>2</th>\n",
       "      <td>2201216</td>\n",
       "      <td>December 31 2021</td>\n",
       "      <td>California</td>\n",
       "      <td>Los Angeles</td>\n",
       "      <td>10211 S. Avalon Blvd</td>\n",
       "      <td>0</td>\n",
       "      <td>6.0</td>\n",
       "    </tr>\n",
       "    <tr>\n",
       "      <th>3</th>\n",
       "      <td>2200968</td>\n",
       "      <td>December 30 2021</td>\n",
       "      <td>Pennsylvania</td>\n",
       "      <td>Philadelphia</td>\n",
       "      <td>5100 block of Germantown Ave</td>\n",
       "      <td>0</td>\n",
       "      <td>6.0</td>\n",
       "    </tr>\n",
       "    <tr>\n",
       "      <th>4</th>\n",
       "      <td>2201052</td>\n",
       "      <td>December 30 2021</td>\n",
       "      <td>Missouri</td>\n",
       "      <td>Kirksville</td>\n",
       "      <td>700 block of E Dodson St</td>\n",
       "      <td>2</td>\n",
       "      <td>2.0</td>\n",
       "    </tr>\n",
       "  </tbody>\n",
       "</table>\n",
       "</div>"
      ],
      "text/plain": [
       "   incident_id     incident_date         state   city_or_county  \\\n",
       "0      2201535  December 31 2021      Maryland  Capitol Heights   \n",
       "1      2201716  December 31 2021   Mississippi         Gulfport   \n",
       "2      2201216  December 31 2021    California      Los Angeles   \n",
       "3      2200968  December 30 2021  Pennsylvania     Philadelphia   \n",
       "4      2201052  December 30 2021      Missouri       Kirksville   \n",
       "\n",
       "                        address  killed  injured  \n",
       "0                      Cindy Ln       0      4.0  \n",
       "1       1200 block of Lewis Ave       3      4.0  \n",
       "2          10211 S. Avalon Blvd       0      6.0  \n",
       "3  5100 block of Germantown Ave       0      6.0  \n",
       "4      700 block of E Dodson St       2      2.0  "
      ]
     },
     "execution_count": 4,
     "metadata": {},
     "output_type": "execute_result"
    }
   ],
   "source": [
    "df['incident_date'] = df['incident_date'].to_datetiun"
   ]
  },
  {
   "cell_type": "code",
   "execution_count": null,
   "id": "f38717b0",
   "metadata": {},
   "outputs": [],
   "source": [
    "sc = Synth(df, \"killed\", \"state\", \"year\", 1990, \"West Germany\", n_optim=100)\n",
    "#Visualize\n",
    "sc.plot([\"original\", \"pointwise\", \"cumulative\"], treated_label=\"West Germany\", \n",
    "            synth_label=\"Synthetic West Germany\", treatment_label=\"German Reunification\")"
   ]
  }
 ],
 "metadata": {
  "kernelspec": {
   "display_name": "Python 3 (ipykernel)",
   "language": "python",
   "name": "python3"
  },
  "language_info": {
   "codemirror_mode": {
    "name": "ipython",
    "version": 3
   },
   "file_extension": ".py",
   "mimetype": "text/x-python",
   "name": "python",
   "nbconvert_exporter": "python",
   "pygments_lexer": "ipython3",
   "version": "3.9.4"
  },
  "toc": {
   "base_numbering": 1,
   "nav_menu": {},
   "number_sections": true,
   "sideBar": true,
   "skip_h1_title": false,
   "title_cell": "Table of Contents",
   "title_sidebar": "Contents",
   "toc_cell": false,
   "toc_position": {},
   "toc_section_display": true,
   "toc_window_display": false
  },
  "varInspector": {
   "cols": {
    "lenName": 16,
    "lenType": 16,
    "lenVar": 40
   },
   "kernels_config": {
    "python": {
     "delete_cmd_postfix": "",
     "delete_cmd_prefix": "del ",
     "library": "var_list.py",
     "varRefreshCmd": "print(var_dic_list())"
    },
    "r": {
     "delete_cmd_postfix": ") ",
     "delete_cmd_prefix": "rm(",
     "library": "var_list.r",
     "varRefreshCmd": "cat(var_dic_list()) "
    }
   },
   "types_to_exclude": [
    "module",
    "function",
    "builtin_function_or_method",
    "instance",
    "_Feature"
   ],
   "window_display": false
  }
 },
 "nbformat": 4,
 "nbformat_minor": 5
}
